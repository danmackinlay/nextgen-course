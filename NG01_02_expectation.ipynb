{
 "cells": [
  {
   "cell_type": "code",
   "execution_count": 2,
   "metadata": {},
   "outputs": [
    {
     "data": {
      "text/html": [
       "<pre style=\"white-space:pre;overflow-x:auto;line-height:normal;font-family:Menlo,'DejaVu Sans Mono',consolas,'Courier New',monospace\">Manim Community <span style=\"color: #008000; text-decoration-color: #008000\">v0.17.2</span>\n",
       "\n",
       "</pre>\n"
      ],
      "text/plain": [
       "Manim Community \u001b[32mv0.\u001b[0m\u001b[32m17.2\u001b[0m\n",
       "\n"
      ]
     },
     "metadata": {},
     "output_type": "display_data"
    }
   ],
   "source": [
    "from manim import *\n",
    "from manim.utils.color import Colors\n",
    "from manim_fontawesome import *\n",
    "from nextgen_01_lib import *\n",
    "\n",
    "from random import seed, shuffle\n",
    "import numpy as np"
   ]
  },
  {
   "cell_type": "markdown",
   "metadata": {},
   "source": [
    "## Probability via simulation"
   ]
  },
  {
   "cell_type": "code",
   "execution_count": 2,
   "metadata": {},
   "outputs": [
    {
     "name": "stdout",
     "output_type": "stream",
     "text": [
      "[0.67686644 0.89028195] [-3.29253424  1.56112778  0.        ]\n",
      "[0.21509132 0.93709692] [-5.13963472  1.7483877   0.        ]\n",
      "[0.81513886 0.46624457] [-2.73944454 -0.13502171  0.        ]\n",
      "[0.74806012 0.39214884] [-3.00775952 -0.43140463  0.        ]\n",
      "[0.83904793 0.7587984 ] [-2.64380828  1.03519361  0.        ]\n",
      "[0.92785292 0.95256355] [-2.28858833  1.81025419  0.        ]\n",
      "[0.47856292 0.27912659] [-4.08574833 -0.88349365  0.        ]\n",
      "[0.86751927 0.55608518] [-2.52992291  0.22434071  0.        ]\n",
      "[0.21955285 0.1551548 ] [-5.12178861 -1.3793808   0.        ]\n",
      "[0.26829999 0.95222616] [-4.92680004  1.80890462  0.        ]\n",
      "[0.30844719 0.78764316] [-4.76621124  1.15057263  0.        ]\n",
      "[0.76997723 0.12588971] [-2.92009106 -1.49644114  0.        ]\n",
      "[0.45776079 0.34688313] [-4.16895684 -0.61246748  0.        ]\n",
      "[0.38606564 0.02470041] [-4.45573745 -1.90119835  0.        ]\n",
      "[0.16181268 0.4318852 ] [-5.35274927 -0.27245919  0.        ]\n",
      "[0.3481002 0.1942385] [-4.6075992  -1.22304599  0.        ]\n",
      "[0.1418499  0.51163689] [-5.4326004   0.04654756  0.        ]\n",
      "[0.9647693 0.8691318] [-2.14092279  1.47652721  0.        ]\n",
      "[0.78716698 0.77481007] [-2.85133209  1.09924028  0.        ]\n",
      "[0.76926483 0.1437792 ] [-2.9229407 -1.4248832  0.       ]\n",
      "[0.82993061 0.98444722] [-2.68027758  1.93778888  0.        ]\n",
      "[0.29183899 0.97934641] [-4.83264405  1.91738566  0.        ]\n",
      "[0.72803872 0.682259  ] [-3.0878451  0.729036   0.       ]\n",
      "[0.30801572 0.97934514] [-4.76793712  1.91738054  0.        ]\n",
      "[0.80097717 0.74242778] [-2.79609131  0.96971112  0.        ]\n",
      "[0.97916312 0.27718021] [-2.0833475  -0.89127915  0.        ]\n",
      "[0.3937104  0.06263393] [-4.42515841 -1.74946427  0.        ]\n",
      "[0.86261316 0.53970997] [-2.54954737  0.15883989  0.        ]\n",
      "[0.02442485 0.21888664] [-5.90230061 -1.12445345  0.        ]\n",
      "[0.63041593 0.04921769] [-3.47833628 -1.80312925  0.        ]\n",
      "[0.74209711 0.10795213] [-3.03161155 -1.56819149  0.        ]\n",
      "[0.477783   0.52109044] [-4.088868    0.08436177  0.        ]\n",
      "[0.79795694 0.53404801] [-2.80817226  0.13619205  0.        ]\n",
      "[0.63671632 0.16364004] [-3.45313473 -1.34543982  0.        ]\n",
      "[0.20075161 0.88860729] [-5.19699356  1.55442915  0.        ]\n",
      "[0.2062201  0.43660517] [-5.17511959 -0.25357931  0.        ]\n",
      "[0.62393261 0.91854846] [-3.50426954  1.67419384  0.        ]\n",
      "[0.4499206  0.01887402] [-4.20031761 -1.92450391  0.        ]\n",
      "[0.77521084 0.46181836] [-2.89915664 -0.15272655  0.        ]\n",
      "[0.91771051 0.75973027] [-2.32915797  1.03892109  0.        ]\n",
      "[0.47077087 0.95827744] [-4.11691653  1.83310976  0.        ]\n",
      "[0.7504377  0.79667663] [-2.99824919  1.18670653  0.        ]\n",
      "[0.31101657 0.67245856] [-4.75593371  0.68983424  0.        ]\n",
      "[0.29029626 0.37528496] [-4.83881497 -0.49886018  0.        ]\n",
      "[0.19744291 0.46662086] [-5.21022837 -0.13351655  0.        ]\n",
      "[0.16255202 0.08190699] [-5.34979192 -1.67237202  0.        ]\n",
      "[0.0808799  0.06904668] [-5.6764804  -1.72381328  0.        ]\n",
      "[0.83341068 0.89866409] [-2.66635728  1.59465635  0.        ]\n",
      "[0.66856716 0.38811491] [-3.32573137 -0.44754037  0.        ]\n",
      "[0.47796462 0.70508299] [-4.08814153  0.82033198  0.        ]\n",
      "[0.54125198 0.33595891] [-3.83499208 -0.65616434  0.        ]\n",
      "[0.47573654 0.45927471] [-4.09705384 -0.16290117  0.        ]\n",
      "[0.24887956 0.63888233] [-5.00448178  0.55552934  0.        ]\n",
      "[0.1959666  0.92194531] [-5.21613358  1.68778125  0.        ]\n",
      "[0.83727934 0.0769816 ] [-2.65088262 -1.69207362  0.        ]\n",
      "[0.02993197 0.74578901] [-5.88027214  0.98315606  0.        ]\n",
      "[0.8198787  0.20526446] [-2.7204852  -1.17894215  0.        ]\n",
      "[0.29508489 0.84508418] [-4.81966046  1.38033673  0.        ]\n",
      "[0.99069803 0.92241619] [-2.03720788  1.68966477  0.        ]\n",
      "[0.8467874  0.58440595] [-2.6128504  0.3376238  0.       ]\n",
      "[0.35960403 0.68047378] [-4.56158388  0.72189513  0.        ]\n",
      "[0.8156742  0.05663667] [-2.7373032  -1.77345333  0.        ]\n",
      "[0.13794036 0.27992184] [-5.44823857 -0.88031262  0.        ]\n",
      "[0.71406089 0.15129065] [-3.14375645 -1.3948374   0.        ]\n",
      "[0.31199247 0.90764022] [-4.75203012  1.63056088  0.        ]\n",
      "[0.76072264 0.73438269] [-2.95710945  0.93753078  0.        ]\n",
      "[0.15875032 0.14919582] [-5.36499873 -1.4032167   0.        ]\n",
      "[0.73544864 0.56417295] [-3.05820545  0.25669178  0.        ]\n",
      "[0.6515108  0.05263741] [-3.39395682 -1.78945035  0.        ]\n",
      "[0.31677842 0.08904514] [-4.73288632 -1.64381946  0.        ]\n",
      "[0.12214865 0.26080749] [-5.51140538 -0.95677005  0.        ]\n",
      "[0.85679273 0.1463416 ] [-2.57282907 -1.41463358  0.        ]\n",
      "[0.99367229 0.29893249] [-2.02531083 -0.80427006  0.        ]\n",
      "[0.16463815 0.19476503] [-5.34144739 -1.22093987  0.        ]\n",
      "[0.72347979 0.53492534] [-3.10608084  0.13970136  0.        ]\n",
      "[0.77941617 0.34573783] [-2.88233532 -0.61704868  0.        ]\n",
      "[0.35680295 0.23400696] [-4.57278822 -1.06397215  0.        ]\n",
      "[0.92415658 0.38998831] [-2.30337368 -0.44004675  0.        ]\n",
      "[0.12091257 0.19121679] [-5.5163497  -1.23513285  0.        ]\n",
      "[0.1321764  0.77715602] [-5.4712944   1.10862407  0.        ]\n",
      "[0.55592789 0.48127698] [-3.77628845 -0.0748921   0.        ]\n",
      "[0.84517792 0.01909856] [-2.61928831 -1.92360575  0.        ]\n",
      "[0.66653956 0.55041908] [-3.33384177  0.20167634  0.        ]\n",
      "[0.56278017 0.06042499] [-3.74887933 -1.75830004  0.        ]\n",
      "[0.16224201 0.63886114] [-5.35103195  0.55544458  0.        ]\n",
      "[0.23502976 0.04797413] [-5.05988095 -1.8081035   0.        ]\n",
      "[0.75173177 0.99868841] [-2.99307291  1.99475366  0.        ]\n",
      "[0.77333427 0.84767646] [-2.90666292  1.39070583  0.        ]\n",
      "[0.77432432 0.11985136] [-2.90270273 -1.52059456  0.        ]\n",
      "[0.31993345 0.09236088] [-4.72026619 -1.63055647  0.        ]\n",
      "[0.13745268 0.72829458] [-5.45018927  0.91317834  0.        ]\n",
      "[0.47065191 0.90503045] [-4.11739235  1.6201218   0.        ]\n",
      "[0.00252969 0.98746551] [-5.98988125  1.94986203  0.        ]\n",
      "[0.05392991 0.63112714] [-5.78428035  0.52450855  0.        ]\n",
      "[0.04701258 0.65526704] [-5.81194969  0.62106816  0.        ]\n",
      "[0.52814768 0.44015347] [-3.88740929 -0.23938612  0.        ]\n",
      "[0.11103214 0.15651132] [-5.55587146 -1.37395473  0.        ]\n",
      "[0.32184656 0.94301233] [-4.71261375  1.77204931  0.        ]\n",
      "[0.92392471 0.70169719] [-2.30430116  0.80678875  0.        ]\n",
      "[0.34953433 0.86722932] [-4.60186267  1.46891727  0.        ]\n"
     ]
    },
    {
     "data": {
      "text/html": [
       "<video src=\"media/jupyter/NG_01_02_ProbViaSim@2023-01-27@08-26-04.mp4\" controls autoplay loop style=\"max-width: 60%;\"  >\n",
       "      Your browser does not support the <code>video</code> element.\n",
       "    </video>"
      ],
      "text/plain": [
       "<IPython.core.display.Video object>"
      ]
     },
     "metadata": {},
     "output_type": "display_data"
    }
   ],
   "source": [
    "%%manim -v WARNING --progress_bar None NG_01_02_ProbViaSim\n",
    "\n",
    "seed(15)\n",
    "\n",
    "class NG_01_02_ProbViaSim(Scene):\n",
    "\n",
    "    def construct(self):\n",
    "        scale = 0.2\n",
    "        POS_COLOR = BLUE\n",
    "        NEG_COLOR = RED\n",
    "        # SICK_SYMB = \"☹︎\"\n",
    "        # WELL_SYMB = \"☺︎\"\n",
    "        sick_icon = Text(SICK_SYMB).scale(5) # or ♓︎\n",
    "        # sick_icon = Triangle()\n",
    "        well_icon = Text(WELL_SYMB).scale(5)\n",
    "\n",
    "        targetspace = Axes(\n",
    "            y_range=[0, 1.0, 0.1],\n",
    "            x_range=[0, 1.0, 0.1],\n",
    "            y_length=4,\n",
    "            x_length=4,\n",
    "            # x_axis_config={\"font_size\": 36},\n",
    "        )\n",
    "        targetspace.shift(4*LEFT)\n",
    "        self.add(targetspace)\n",
    "\n",
    "        def as_rectangle_corners(bottom_left, top_right):\n",
    "            return [\n",
    "                (top_right[0], top_right[1]),\n",
    "                (bottom_left[0], top_right[1]),\n",
    "                (bottom_left[0], bottom_left[1]),\n",
    "                (top_right[0], bottom_left[1]),\n",
    "            ]\n",
    "        \n",
    "        def get_rectangle(bottom_left, top_right, color=POS_COLOR):\n",
    "            polygon = Polygon(\n",
    "                *[\n",
    "                    targetspace.c2p(*i)\n",
    "                    for i in as_rectangle_corners(\n",
    "                        bottom_left, top_right\n",
    "                    )\n",
    "                ]\n",
    "            )\n",
    "            polygon.stroke_width = 1\n",
    "            polygon.set_fill(color, opacity=0.3)\n",
    "            polygon.set_stroke(color)\n",
    "            return polygon\n",
    "\n",
    "        def in_zone(zone, point):\n",
    "            return (\n",
    "                zone[0][0] <= point[0] < zone[1][0]\n",
    "                and zone[0][1] <= point[1] < zone[1][1]\n",
    "            )\n",
    "        \n",
    "        well_neg_zone = (0.0, 0.0), (0.9, 0.9)\n",
    "        well_neg_rect = get_rectangle(*well_neg_zone, NEG_COLOR)\n",
    "        self.add(well_neg_rect)\n",
    "        well_pos_zone = (0.9, 0.0), (1.0, 0.9)\n",
    "        well_pos_rect = get_rectangle(*well_pos_zone, POS_COLOR)\n",
    "        self.add(well_pos_rect)\n",
    "        sick_neg_zone = (0.0, 0.9), (0.9, 1.0)\n",
    "        sick_neg_rect = get_rectangle(*sick_neg_zone, NEG_COLOR)\n",
    "        self.add(sick_neg_rect)\n",
    "        sick_pos_zone = (0.9, 0.9), (1.0, 1.0)\n",
    "        sick_pos_rect = get_rectangle(*sick_pos_zone, POS_COLOR)\n",
    "        self.add(sick_pos_rect)\n",
    "\n",
    "        zones = [well_neg_zone, well_pos_zone, sick_neg_zone, sick_pos_zone]\n",
    "        count = np.array([0, 0, 0, 0])\n",
    "\n",
    "        def zone(point):\n",
    "            for i, zone in enumerate(zones):\n",
    "                if in_zone(zone, point):\n",
    "                    return i, zone\n",
    "\n",
    "        chart = BarChart(\n",
    "            values=[0,0,0,0],\n",
    "            bar_names=[ WELL_SYMB, WELL_SYMB, SICK_SYMB, SICK_SYMB],\n",
    "            bar_colors=[NEG_COLOR, POS_COLOR, NEG_COLOR, POS_COLOR],\n",
    "            y_range=[0, 1.0, 0.1],\n",
    "            y_length=6,\n",
    "            x_length=4,\n",
    "            # x_axis_config={\"font_size\": 36},\n",
    "        )\n",
    "        chart.shift(4*RIGHT)\n",
    "        c_bar_lbls = chart.get_bar_labels(font_size=24)\n",
    "        self.add(chart, c_bar_lbls)\n",
    "\n",
    "        for i in range(100):\n",
    "            p = np.random.random(2)\n",
    "            print(p, targetspace.c2p(*p))\n",
    "            self.add(\n",
    "                Dot(\n",
    "                    targetspace.c2p(*p)\n",
    "                ))\n",
    "            i, z = zone(p)\n",
    "            count[i] += 1\n",
    "            self.play(\n",
    "                chart.animate.change_bar_values(count/count.sum()),\n",
    "                run_time=0.5/(i+1)**2)\n",
    "            # c_bar_lbls = chart.get_bar_labels(font_size=24)\n",
    "            # self.play(\n",
    "            #     Transform(c_bar_lbls, chart.get_bar_labels(font_size=24)),\n",
    "            #     run_time=0.5/(i+1)**2\n",
    "            # )\n",
    "\n"
   ]
  },
  {
   "cell_type": "code",
   "execution_count": 14,
   "metadata": {},
   "outputs": [
    {
     "data": {
      "text/html": [
       "<video src=\"media/jupyter/WalkingThroughDoor@2023-01-27@15-57-18.mp4\" controls autoplay loop style=\"max-width: 60%;\"  >\n",
       "      Your browser does not support the <code>video</code> element.\n",
       "    </video>"
      ],
      "text/plain": [
       "<IPython.core.display.Video object>"
      ]
     },
     "metadata": {},
     "output_type": "display_data"
    }
   ],
   "source": [
    "%%manim -v WARNING --progress_bar None WalkingThroughDoor\n",
    "from nextgen_01_defs import *\n",
    "from nextgen_01_lib import *\n",
    "\n",
    "class WalkingThroughDoor(Scene):\n",
    "    def construct(self):\n",
    "        # person = ImageMobject(\"person_icon.png\")\n",
    "        person = SVGMobject(\"noun-person-1492700.svg\", fill_color=RED)\n",
    "        # person = solid.person\n",
    "        \n",
    "        corridor = Rectangle(height=2, width=1)\n",
    "        door = Rectangle(height=2, width=1)\n",
    "\n",
    "        self.play(FadeIn(door), FadeIn(person))\n",
    "        self.play(MoveAlongPath(person, Line(LEFT, RIGHT)), run_time=2)\n"
   ]
  },
  {
   "cell_type": "code",
   "execution_count": null,
   "metadata": {},
   "outputs": [],
   "source": []
  }
 ],
 "metadata": {
  "kernelspec": {
   "display_name": "venv",
   "language": "python",
   "name": "python3"
  },
  "language_info": {
   "codemirror_mode": {
    "name": "ipython",
    "version": 3
   },
   "file_extension": ".py",
   "mimetype": "text/x-python",
   "name": "python",
   "nbconvert_exporter": "python",
   "pygments_lexer": "ipython3",
   "version": "3.9.6"
  },
  "vscode": {
   "interpreter": {
    "hash": "46c07f8aca75ef74b3ff71828bfe734891426e0a5929f58948cfd5377753f528"
   }
  }
 },
 "nbformat": 4,
 "nbformat_minor": 4
}
