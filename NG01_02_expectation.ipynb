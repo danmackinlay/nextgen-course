{
 "cells": [
  {
   "cell_type": "code",
   "execution_count": 1,
   "metadata": {},
   "outputs": [
    {
     "data": {
      "text/html": [
       "<pre style=\"white-space:pre;overflow-x:auto;line-height:normal;font-family:Menlo,'DejaVu Sans Mono',consolas,'Courier New',monospace\">Manim Community <span style=\"color: #008000; text-decoration-color: #008000\">v0.17.1</span>\n",
       "\n",
       "</pre>\n"
      ],
      "text/plain": [
       "Manim Community \u001b[32mv0.\u001b[0m\u001b[32m17.1\u001b[0m\n",
       "\n"
      ]
     },
     "metadata": {},
     "output_type": "display_data"
    }
   ],
   "source": [
    "from manim import *\n",
    "from random import seed, shuffle\n",
    "import numpy as np"
   ]
  },
  {
   "cell_type": "markdown",
   "metadata": {},
   "source": [
    "## Probability via simulation"
   ]
  },
  {
   "cell_type": "code",
   "execution_count": 2,
   "metadata": {},
   "outputs": [
    {
     "name": "stderr",
     "output_type": "stream",
     "text": [
      "<string>:99: DeprecationWarning: This method is not guaranteed to stay around. Please prefer setting the attribute normally or with Mobject.set().\n",
      "<string>:99: DeprecationWarning: This method is not guaranteed to stay around. Please prefer setting the attribute normally or with Mobject.set().\n",
      "<string>:99: DeprecationWarning: This method is not guaranteed to stay around. Please prefer setting the attribute normally or with Mobject.set().\n",
      "<string>:99: DeprecationWarning: This method is not guaranteed to stay around. Please prefer setting the attribute normally or with Mobject.set().\n",
      "<string>:99: DeprecationWarning: This method is not guaranteed to stay around. Please prefer setting the attribute normally or with Mobject.set().\n",
      "<string>:99: DeprecationWarning: This method is not guaranteed to stay around. Please prefer setting the attribute normally or with Mobject.set().\n",
      "<string>:99: DeprecationWarning: This method is not guaranteed to stay around. Please prefer setting the attribute normally or with Mobject.set().\n",
      "<string>:99: DeprecationWarning: This method is not guaranteed to stay around. Please prefer setting the attribute normally or with Mobject.set().\n",
      "<string>:99: DeprecationWarning: This method is not guaranteed to stay around. Please prefer setting the attribute normally or with Mobject.set().\n",
      "<string>:99: DeprecationWarning: This method is not guaranteed to stay around. Please prefer setting the attribute normally or with Mobject.set().\n"
     ]
    },
    {
     "data": {
      "text/html": [
       "<video src=\"media/jupyter/NG_01_02_ProbViaSim@2023-01-02@10-38-45.mp4\" controls autoplay loop style=\"max-width: 60%;\"  >\n",
       "      Your browser does not support the <code>video</code> element.\n",
       "    </video>"
      ],
      "text/plain": [
       "<IPython.core.display.Video object>"
      ]
     },
     "metadata": {},
     "output_type": "display_data"
    }
   ],
   "source": [
    "%%manim -v WARNING --progress_bar None NG_01_02_ProbViaSim\n",
    "\n",
    "seed(15)\n",
    "\n",
    "class NG_01_02_ProbViaSim(Scene):\n",
    "\n",
    "    def construct(self):\n",
    "        scale = 0.2\n",
    "        POS_COLOR = BLUE\n",
    "        NEG_COLOR = RED\n",
    "        SICK_SYMB = \"X\"\n",
    "        WELL_SYMB = \"O\"\n",
    "        # SICK_SYMB = \"☹︎\"\n",
    "        # WELL_SYMB = \"☺︎\"\n",
    "        sick_icon = Text(SICK_SYMB).scale(5) # or ♓︎\n",
    "        # sick_icon = Triangle()\n",
    "        well_icon = Text(WELL_SYMB).scale(5)\n",
    "\n",
    "        targetspace = Axes(\n",
    "            y_range=[0, 1.0, 0.1],\n",
    "            x_range=[0, 1.0, 0.1],\n",
    "            y_length=4,\n",
    "            x_length=4,\n",
    "            # x_axis_config={\"font_size\": 36},\n",
    "        )\n",
    "        targetspace.shift(4*LEFT)\n",
    "        self.add(targetspace)\n",
    "\n",
    "        def as_rectangle_corners(bottom_left, top_right):\n",
    "            return [\n",
    "                (top_right[0], top_right[1]),\n",
    "                (bottom_left[0], top_right[1]),\n",
    "                (bottom_left[0], bottom_left[1]),\n",
    "                (top_right[0], bottom_left[1]),\n",
    "            ]\n",
    "        \n",
    "        def get_rectangle(bottom_left, top_right, color=POS_COLOR):\n",
    "            polygon = Polygon(\n",
    "                *[\n",
    "                    targetspace.c2p(*i)\n",
    "                    for i in as_rectangle_corners(\n",
    "                        bottom_left, top_right\n",
    "                    )\n",
    "                ]\n",
    "            )\n",
    "            polygon.stroke_width = 1\n",
    "            polygon.set_fill(color, opacity=0.3)\n",
    "            polygon.set_stroke(color)\n",
    "            return polygon\n",
    "\n",
    "        def in_zone(zone, point):\n",
    "            return (\n",
    "                zone[0][0] <= point[0] <= zone[1][0]\n",
    "                and zone[0][1] <= point[1] <= zone[1][1]\n",
    "            )\n",
    "\n",
    "        well_neg_zone = (0.0, 0.0), (0.9, 0.9)\n",
    "        well_neg_rect = get_rectangle(*well_neg_zone, NEG_COLOR)\n",
    "        self.add(well_neg_rect)\n",
    "        well_pos_zone = (0.9, 0.0), (1.0, 0.9)\n",
    "        well_pos_rect = get_rectangle(*well_pos_zone, POS_COLOR)\n",
    "        self.add(well_pos_rect)\n",
    "        sick_neg_zone = (0.0, 0.9), (0.9, 1.0)\n",
    "        sick_neg_rect = get_rectangle(*sick_neg_zone, NEG_COLOR)\n",
    "        self.add(sick_neg_rect)\n",
    "        sick_pos_zone = (0.9, 0.9), (1.0, 1.0)\n",
    "        sick_pos_rect = get_rectangle(*sick_pos_zone, POS_COLOR)\n",
    "        self.add(sick_pos_rect)\n",
    "\n",
    "        chart = BarChart(\n",
    "            values=[0,0,0,0],\n",
    "            bar_names=[SICK_SYMB, SICK_SYMB, WELL_SYMB, WELL_SYMB],\n",
    "            bar_colors=[NEG_COLOR, NEG_COLOR, POS_COLOR, POS_COLOR],\n",
    "            y_range=[0, 1.0, 0.1],\n",
    "            y_length=6,\n",
    "            x_length=4,\n",
    "            # x_axis_config={\"font_size\": 36},\n",
    "        )\n",
    "        chart.shift(4*RIGHT)\n",
    "        c_bar_lbls = chart.get_bar_labels(font_size=24)\n",
    "        self.add(chart, c_bar_lbls)\n",
    "\n",
    "        count = np.array([0, 0, 0, 0])\n",
    "        for i in range(10):\n",
    "            p = np.random.random(2)\n",
    "            self.add(\n",
    "                Dot(\n",
    "                    targetspace.c2p(*p)\n",
    "                ))\n",
    "            if in_zone(well_neg_zone, p):\n",
    "                count[0] += 1\n",
    "            elif in_zone(well_pos_zone, p):\n",
    "                count[1] += 1\n",
    "            elif in_zone(sick_neg_zone, p):\n",
    "                count[2] += 1\n",
    "            elif in_zone(sick_pos_zone, p):\n",
    "                count[3] += 1\n",
    "            else:\n",
    "                raise Exception(\"Should not happen\")\n",
    "            chart.set_values(count/count.sum())\n",
    "            # c_bar_lbls = chart.get_bar_labels(font_size=24)\n",
    "            self.play(\n",
    "                Transform(c_bar_lbls, chart.get_bar_labels(font_size=24)),\n",
    "                run_time=0.1\n",
    "            )\n",
    "\n"
   ]
  },
  {
   "cell_type": "code",
   "execution_count": null,
   "metadata": {},
   "outputs": [],
   "source": []
  }
 ],
 "metadata": {
  "kernelspec": {
   "display_name": "venv",
   "language": "python",
   "name": "python3"
  },
  "language_info": {
   "codemirror_mode": {
    "name": "ipython",
    "version": 3
   },
   "file_extension": ".py",
   "mimetype": "text/x-python",
   "name": "python",
   "nbconvert_exporter": "python",
   "pygments_lexer": "ipython3",
   "version": "3.9.14"
  },
  "vscode": {
   "interpreter": {
    "hash": "46c07f8aca75ef74b3ff71828bfe734891426e0a5929f58948cfd5377753f528"
   }
  }
 },
 "nbformat": 4,
 "nbformat_minor": 4
}
