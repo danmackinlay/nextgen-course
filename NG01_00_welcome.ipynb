{
 "cells": [
  {
   "cell_type": "code",
   "execution_count": 1,
   "metadata": {},
   "outputs": [
    {
     "data": {
      "text/html": [
       "<pre style=\"white-space:pre;overflow-x:auto;line-height:normal;font-family:Menlo,'DejaVu Sans Mono',consolas,'Courier New',monospace\">Manim Community <span style=\"color: #008000; text-decoration-color: #008000\">v0.17.1</span>\n",
       "\n",
       "</pre>\n"
      ],
      "text/plain": [
       "Manim Community \u001b[32mv0.\u001b[0m\u001b[32m17.1\u001b[0m\n",
       "\n"
      ]
     },
     "metadata": {},
     "output_type": "display_data"
    }
   ],
   "source": [
    "from manim import *\n",
    "from random import seed, shuffle"
   ]
  },
  {
   "cell_type": "code",
   "execution_count": 2,
   "metadata": {},
   "outputs": [
    {
     "data": {
      "text/html": [
       "<video src=\"media/jupyter/NG01_00_Welcome@2023-01-02@10-37-43.mp4\" controls autoplay loop style=\"max-width: 60%;\"  >\n",
       "      Your browser does not support the <code>video</code> element.\n",
       "    </video>"
      ],
      "text/plain": [
       "<IPython.core.display.Video object>"
      ]
     },
     "metadata": {},
     "output_type": "display_data"
    }
   ],
   "source": [
    "%%manim -v WARNING --progress_bar None NG01_00_Welcome\n",
    "\n",
    "seed(14)\n",
    "\n",
    "class NG01_00_Welcome(Scene):\n",
    "    def construct(self):\n",
    "        logo = SVGMobject('./CSIRO-Data61-logo.svg')\n",
    "        # logo = SVGMobject('./Data61-logo.svg')\n",
    "        # logo = SVGMobject('./CSIRO-logo.svg')\n",
    "        self.play(Write(logo))\n",
    "        self.wait()\n",
    "        logo.generate_target()\n",
    "        logo.target.scale(0.30).to_edge(DR)\n",
    "        self.play(MoveToTarget(\n",
    "            logo))\n",
    "        self.wait()\n",
    "        lesson_text = Text('NextGen Lecture 01')\n",
    "        self.play(Write(lesson_text))\n",
    "        self.wait()\n",
    "        lesson_text2 = Text('Beginning probability')\n",
    "        self.play(Transform(lesson_text, lesson_text2))\n",
    "        self.wait()\n",
    "        self.play(FadeOut(lesson_text2))\n",
    "        dan = ImageMobject('dan_head.webp')\n",
    "        lesson_text3 = Text('with Dan MacKinlay').align_to(dan, DOWN)\n",
    "        self.play(FadeIn(dan))\n",
    "        self.play(Write(lesson_text3))\n",
    "        self.wait()\n",
    "        self.wait()\n"
   ]
  },
  {
   "cell_type": "code",
   "execution_count": null,
   "metadata": {},
   "outputs": [],
   "source": []
  }
 ],
 "metadata": {
  "kernelspec": {
   "display_name": "venv",
   "language": "python",
   "name": "python3"
  },
  "language_info": {
   "codemirror_mode": {
    "name": "ipython",
    "version": 3
   },
   "file_extension": ".py",
   "mimetype": "text/x-python",
   "name": "python",
   "nbconvert_exporter": "python",
   "pygments_lexer": "ipython3",
   "version": "3.9.16"
  },
  "vscode": {
   "interpreter": {
    "hash": "46c07f8aca75ef74b3ff71828bfe734891426e0a5929f58948cfd5377753f528"
   }
  }
 },
 "nbformat": 4,
 "nbformat_minor": 4
}
