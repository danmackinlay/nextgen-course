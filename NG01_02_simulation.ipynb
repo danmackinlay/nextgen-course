{
 "cells": [
  {
   "cell_type": "code",
   "execution_count": 1,
   "metadata": {},
   "outputs": [
    {
     "data": {
      "text/html": [
       "<pre style=\"white-space:pre;overflow-x:auto;line-height:normal;font-family:Menlo,'DejaVu Sans Mono',consolas,'Courier New',monospace\">Manim Community <span style=\"color: #008000; text-decoration-color: #008000\">v0.17.1</span>\n",
       "\n",
       "</pre>\n"
      ],
      "text/plain": [
       "Manim Community \u001b[32mv0.\u001b[0m\u001b[32m17.1\u001b[0m\n",
       "\n"
      ]
     },
     "metadata": {},
     "output_type": "display_data"
    }
   ],
   "source": [
    "from manim import *\n",
    "from manim.utils.color import Colors\n",
    "# from manim_fontawesome import *\n",
    "from nextgen_01_lib import *\n",
    "\n",
    "from random import seed, shuffle\n",
    "import numpy as np"
   ]
  },
  {
   "cell_type": "markdown",
   "metadata": {},
   "source": [
    "## Probability via simulation"
   ]
  },
  {
   "cell_type": "code",
   "execution_count": 30,
   "metadata": {},
   "outputs": [
    {
     "data": {
      "text/html": [
       "<video src=\"media/jupyter/NG_01_02_ProbViaSim@2023-01-27@23-20-17.mp4\" controls autoplay loop style=\"max-width: 60%;\"  >\n",
       "      Your browser does not support the <code>video</code> element.\n",
       "    </video>"
      ],
      "text/plain": [
       "<IPython.core.display.Video object>"
      ]
     },
     "metadata": {},
     "output_type": "display_data"
    }
   ],
   "source": [
    "%%manim -v WARNING --progress_bar None NG_01_02_ProbViaSim\n",
    "\n",
    "seed(18)\n",
    "\n",
    "class NG_01_02_ProbViaSim(Scene):\n",
    "\n",
    "    def construct(self):\n",
    "        scale = 0.2\n",
    "        POS_COLOR = BLUE\n",
    "        NEG_COLOR = RED\n",
    "        # SICK_SYMB = \"☹︎\"\n",
    "        # WELL_SYMB = \"☺︎\"\n",
    "        sick_icon = Text(SICK_SYMB).scale(5) # or ♓︎\n",
    "        # sick_icon = Triangle()\n",
    "        well_icon = Text(WELL_SYMB).scale(5)\n",
    "\n",
    "        targetspace = Axes(\n",
    "            y_range=[0, 1.0, 0.1],\n",
    "            x_range=[0, 1.0, 0.1],\n",
    "            y_length=4,\n",
    "            x_length=4,\n",
    "            # x_axis_config={\"font_size\": 36},\n",
    "        )\n",
    "        targetspace.shift(4*LEFT)\n",
    "        self.add(targetspace)\n",
    "\n",
    "        def as_rectangle_corners(bottom_left, top_right):\n",
    "            return [\n",
    "                (top_right[0], top_right[1]),\n",
    "                (bottom_left[0], top_right[1]),\n",
    "                (bottom_left[0], bottom_left[1]),\n",
    "                (top_right[0], bottom_left[1]),\n",
    "            ]\n",
    "        \n",
    "        def get_rectangle(bottom_left, top_right, color=POS_COLOR):\n",
    "            polygon = Polygon(\n",
    "                *[\n",
    "                    targetspace.c2p(*i)\n",
    "                    for i in as_rectangle_corners(\n",
    "                        bottom_left, top_right\n",
    "                    )\n",
    "                ]\n",
    "            )\n",
    "            polygon.stroke_width = 1\n",
    "            polygon.set_fill(color, opacity=0.3)\n",
    "            polygon.set_stroke(color)\n",
    "            return polygon\n",
    "\n",
    "        def in_zone(zone, point):\n",
    "            return (\n",
    "                zone[0][0] <= point[0] < zone[1][0]\n",
    "                and zone[0][1] <= point[1] < zone[1][1]\n",
    "            )\n",
    "        \n",
    "        well_neg_zone = (0.0, 0.0), (0.9, 0.9)\n",
    "        well_neg_rect = get_rectangle(*well_neg_zone, NEG_COLOR)\n",
    "        self.add(well_neg_rect)\n",
    "        well_pos_zone = (0.9, 0.0), (1.0, 0.9)\n",
    "        well_pos_rect = get_rectangle(*well_pos_zone, POS_COLOR)\n",
    "        self.add(well_pos_rect)\n",
    "        sick_neg_zone = (0.0, 0.9), (0.9, 1.0)\n",
    "        sick_neg_rect = get_rectangle(*sick_neg_zone, NEG_COLOR)\n",
    "        self.add(sick_neg_rect)\n",
    "        sick_pos_zone = (0.9, 0.9), (1.0, 1.0)\n",
    "        sick_pos_rect = get_rectangle(*sick_pos_zone, POS_COLOR)\n",
    "        self.add(sick_pos_rect)\n",
    "\n",
    "        zones = [well_neg_zone, well_pos_zone, sick_neg_zone, sick_pos_zone]\n",
    "        count = np.array([0, 0, 0, 0])\n",
    "\n",
    "        def zone(point):\n",
    "            for i, zone in enumerate(zones):\n",
    "                if in_zone(zone, point):\n",
    "                    return i, zone\n",
    "\n",
    "        chart = BarChart(\n",
    "            values=[0,0,0,0],\n",
    "            bar_names=[ WELL_SYMB, WELL_SYMB, SICK_SYMB, SICK_SYMB],\n",
    "            bar_colors=[NEG_COLOR, POS_COLOR, NEG_COLOR, POS_COLOR],\n",
    "            y_range=[0, 1.0, 0.1],\n",
    "            y_length=6,\n",
    "            x_length=4,\n",
    "            # x_axis_config={\"font_size\": 36},\n",
    "        )\n",
    "        chart.shift(4*RIGHT)\n",
    "        c_bar_lbls = chart.get_bar_labels(font_size=24)\n",
    "        self.add(chart, c_bar_lbls)\n",
    "\n",
    "        for n_points, dur in [(1,1.0),] *10 + [(2*k , 1/k) for k in range(1, 25)]: \n",
    "            for step in range(n_points):\n",
    "                p = np.random.random(2)\n",
    "                # print(p, targetspace.c2p(*p))\n",
    "                self.add(\n",
    "                    Dot(\n",
    "                        targetspace.c2p(*p)\n",
    "                    ))\n",
    "                i, z = zone(p)\n",
    "                count[i] += 1\n",
    "                self.play(\n",
    "                    chart.animate.change_bar_values(count/count.sum()),\n",
    "                    run_time=dur)\n",
    "                # c_bar_lbls = chart.get_bar_labels(font_size=24)\n",
    "                # self.play(\n",
    "                #     Transform(c_bar_lbls, chart.get_bar_labels(font_size=24)),\n",
    "                #     run_time=0.5/(i+1)**2\n",
    "                # )\n",
    "\n"
   ]
  },
  {
   "cell_type": "code",
   "execution_count": 29,
   "metadata": {},
   "outputs": [
    {
     "data": {
      "text/html": [
       "<video src=\"media/jupyter/WalkingThroughDoor@2023-01-27@23-14-55.mp4\" controls autoplay loop style=\"max-width: 60%;\"  >\n",
       "      Your browser does not support the <code>video</code> element.\n",
       "    </video>"
      ],
      "text/plain": [
       "<IPython.core.display.Video object>"
      ]
     },
     "metadata": {},
     "output_type": "display_data"
    }
   ],
   "source": [
    "%%manim -v WARNING --progress_bar None WalkingThroughDoor\n",
    "from nextgen_01_defs import *\n",
    "from nextgen_01_lib import *\n",
    "\n",
    "class WalkingThroughDoor(Scene):\n",
    "    def construct(self):\n",
    "        # person = ImageMobject(\"person_icon.png\")\n",
    "        person = SVGMobject(\"noun-person-1492700.svg\", fill_color=RED)\n",
    "        # person = solid.person\n",
    "        \n",
    "        corridor = Rectangle(height=2, width=1, fill_color=BLACK).shift(LEFT).set_z_index(2)\n",
    "        door = Rectangle(height=2, width=1).set_z_index(3)\n",
    "\n",
    "        self.play(FadeIn(door), FadeIn(person))\n",
    "        self.play(MoveAlongPath(person, Line(LEFT, RIGHT)), run_time=2)\n"
   ]
  },
  {
   "cell_type": "code",
   "execution_count": null,
   "metadata": {},
   "outputs": [],
   "source": []
  }
 ],
 "metadata": {
  "kernelspec": {
   "display_name": "venv",
   "language": "python",
   "name": "python3"
  },
  "language_info": {
   "codemirror_mode": {
    "name": "ipython",
    "version": 3
   },
   "file_extension": ".py",
   "mimetype": "text/x-python",
   "name": "python",
   "nbconvert_exporter": "python",
   "pygments_lexer": "ipython3",
   "version": "3.9.16"
  },
  "vscode": {
   "interpreter": {
    "hash": "46c07f8aca75ef74b3ff71828bfe734891426e0a5929f58948cfd5377753f528"
   }
  }
 },
 "nbformat": 4,
 "nbformat_minor": 4
}
