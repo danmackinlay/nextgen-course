{
 "cells": [
  {
   "attachments": {},
   "cell_type": "markdown",
   "metadata": {},
   "source": [
    "# Exercises in probability\n",
    "\n",
    "![](CSIRO-Data61-logo.svg)\n",
    "\n",
    "In this notebook we use some of the tools introduced in the lecture to solve problems in probability.\n",
    "There are more, and more advanced, problems at the end of  chapter 2 of Chris Bishop’s _Pattern Recognition and Machine Learning_.\n",
    "\n",
    "This workbook is for self-assessment; We invite you to solve it \n",
    "\n"
   ]
  },
  {
   "cell_type": "markdown",
   "metadata": {},
   "source": [
    "## setup"
   ]
  },
  {
   "cell_type": "code",
   "execution_count": 14,
   "metadata": {},
   "outputs": [
    {
     "name": "stdout",
     "output_type": "stream",
     "text": [
      "The autoreload extension is already loaded. To reload it, use:\n",
      "  %reload_ext autoreload\n"
     ]
    }
   ],
   "source": [
    "from random import seed, shuffle\n",
    "import numpy as np\n",
    "import scipy as sp\n",
    "\n",
    "%load_ext autoreload\n",
    "%autoreload 2\n",
    "\n",
    "\n",
    "SEED = 15\n",
    "\n",
    "seed(SEED)\n",
    "rng = np.random.default_rng(SEED)\n"
   ]
  },
  {
   "attachments": {},
   "cell_type": "markdown",
   "metadata": {},
   "source": [
    "## Some utility functions\n",
    "\n",
    "You might want to use these to solve some of the problems, which is why they are displayed here.\n",
    "\n",
    "OTOH, they are confusing to look at, so you might want to hide them for now and read the rest of the notebook.\n",
    "\n"
   ]
  },
  {
   "cell_type": "code",
   "execution_count": null,
   "metadata": {},
   "outputs": [],
   "source": [
    "import numpy as np\n",
    "import scipy as sp\n",
    "\n",
    "def get_sp_dist(version='xi'):\n",
    "    \"\"\"\n",
    "    The salmon pox distribution\n",
    "\n",
    "    Coding: \n",
    "    0 well and negative\n",
    "    1 sick and negative\n",
    "    2 well and positive\n",
    "    3 sick and positive\n",
    "\n",
    "    This coding is automated in the next function\n",
    "    \"\"\"\n",
    "    xk = np.arange(4)\n",
    "    if version is None:\n",
    "        pk = (0.82, 0.01, 0.09, 0.09)\n",
    "    elif version == 'xi':\n",
    "        pk = (0.7, 0.02, 0.08, 0.2)  \n",
    "    return sp.stats.rv_discrete(0, 3, name='sp', values=(xk, pk))\n",
    "\n",
    "\n",
    "def sp_coding(c):\n",
    "    \"\"\"\n",
    "    convert a salmon pox integer rv into a tuple of strings.\n",
    "    \"\"\"\n",
    "    if c == 0:\n",
    "        return 'well', 'negative'\n",
    "    elif c == 1:\n",
    "        return 'sick', 'negative'\n",
    "    elif c == 2:\n",
    "        return 'well', 'positive'\n",
    "    elif c == 3:\n",
    "        return 'sick', 'positive'\n",
    "\n",
    "\n",
    "def get_sp_data(n=100, version='xi', seed=15):\n",
    "    \"\"\"\n",
    "    Generate some data from the salmon pox distribution\n",
    "    \"\"\"\n",
    "    rng = np.random.default_rng(seed)\n",
    "    \n",
    "    sp_dist = get_sp_dist(version=version)\n",
    "    data = sp_dist.rvs(size=n, random_state=rng)\n",
    "    return [sp_coding(c) for c in data]\n",
    "\n",
    "\n",
    "def get_wh_dist():\n",
    "    \"\"\"\n",
    "    armspan/height distribution\n",
    "    \"\"\"\n",
    "    mean = np.array([2, 3.5]).reshape(-1,1)\n",
    "    covar = np.array(\n",
    "        [1**2, 1*1.5*0.8, 1*1.5*0.8, 1.5**2]\n",
    "        ).reshape(2,2) * 0.25\n",
    "    return sp.stats.multivariate_normal(mean=mean.ravel(), cov=covar)\n",
    "\n",
    "\n",
    "def get_wh_data(n=200, seed=15):\n",
    "    \"\"\"\n",
    "    Generate some data from the armspan/height distribution.\n",
    "    \"\"\"\n",
    "    rng = np.random.default_rng(seed)\n",
    "    wh_dist = get_wh_dist()\n",
    "    return wh_dist.rvs(size=n, random_state=rng)"
   ]
  },
  {
   "attachments": {},
   "cell_type": "markdown",
   "metadata": {},
   "source": [
    "## Exercise 01\n",
    "\n",
    "In this exercise we revisit the Salmon Pox problem from the lecture.\n",
    "There is a new variant of the disease, the $\\xi$ variant, so we re-test the village and analyse the results.\n",
    "Our test results are as follows:"
   ]
  },
  {
   "cell_type": "code",
   "execution_count": 20,
   "metadata": {},
   "outputs": [],
   "source": [
    "sickness_status = get_sp_data()"
   ]
  },
  {
   "attachments": {},
   "cell_type": "markdown",
   "metadata": {},
   "source": [
    "What is the false negative rate in the village?\n",
    "What does that tell us about the false negative rate in the wider population?"
   ]
  },
  {
   "cell_type": "code",
   "execution_count": null,
   "metadata": {},
   "outputs": [],
   "source": []
  },
  {
   "attachments": {},
   "cell_type": "markdown",
   "metadata": {},
   "source": [
    "Given a positive test result for an individual, what is the probability that the individual is infected?"
   ]
  },
  {
   "cell_type": "code",
   "execution_count": null,
   "metadata": {},
   "outputs": [],
   "source": []
  },
  {
   "attachments": {},
   "cell_type": "markdown",
   "metadata": {},
   "source": [
    "Suppose you visit a new town, on a new continent, and you know nothing about the prevalence of $\\xi$-Salmon Pox in the population.\n",
    "You apply the diagnostic test to a new individual, and discover that they test positive.\n",
    "What can you say about the probability that they are infected with $\\xi$-Salmon Pox?"
   ]
  },
  {
   "cell_type": "code",
   "execution_count": null,
   "metadata": {},
   "outputs": [],
   "source": []
  },
  {
   "attachments": {},
   "cell_type": "markdown",
   "metadata": {},
   "source": [
    "## Exercise 02\n",
    "\n",
    "We move to a new village. The village has 200 people, and they want a commemorative kilt to mark their successful weathering of the Salmon Pox outbreak.\n",
    "The height and arm-span measurements of the people are recorded in the following dataset:"
   ]
  },
  {
   "cell_type": "code",
   "execution_count": 23,
   "metadata": {},
   "outputs": [],
   "source": [
    "d = get_wh_data()"
   ]
  },
  {
   "attachments": {},
   "cell_type": "markdown",
   "metadata": {},
   "source": [
    "The cost of the kilt is  $w^2\\sqrt{h}$. What is $\\mathbb{E}[\\text{cost}]$?"
   ]
  },
  {
   "cell_type": "code",
   "execution_count": null,
   "metadata": {},
   "outputs": [],
   "source": []
  },
  {
   "attachments": {},
   "cell_type": "markdown",
   "metadata": {},
   "source": [
    "## Exercise 03\n",
    "\n"
   ]
  }
 ],
 "metadata": {
  "kernelspec": {
   "display_name": "venv",
   "language": "python",
   "name": "python3"
  },
  "language_info": {
   "codemirror_mode": {
    "name": "ipython",
    "version": 3
   },
   "file_extension": ".py",
   "mimetype": "text/x-python",
   "name": "python",
   "nbconvert_exporter": "python",
   "pygments_lexer": "ipython3",
   "version": "3.9.6"
  },
  "vscode": {
   "interpreter": {
    "hash": "f51b85179b932ac0f9a9c96de03a07d73ed4c17802a9dc16695724f71410bcef"
   }
  }
 },
 "nbformat": 4,
 "nbformat_minor": 4
}
