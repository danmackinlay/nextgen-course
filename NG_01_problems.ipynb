{
  "cells": [
    {
      "cell_type": "markdown",
      "metadata": {
        "id": "view-in-github",
        "colab_type": "text"
      },
      "source": [
        "<a href=\"https://colab.research.google.com/github/danmackinlay/nextgen-course/blob/main/NG_01_problems.ipynb\" target=\"_parent\"><img src=\"https://colab.research.google.com/assets/colab-badge.svg\" alt=\"Open In Colab\"/></a>"
      ]
    },
    {
      "cell_type": "markdown",
      "metadata": {
        "id": "AK5-gkqGb3dE"
      },
      "source": [
        "# Exercises in probability\n",
        "\n",
        "![](CSIRO-Data61-logo.svg)\n",
        "\n",
        "In this notebook we use some of the tools introduced in the lecture to solve problems in probability.\n",
        "There are more, and more advanced, problems at the end of  chapter 2 of Chris Bishop’s _Pattern Recognition and Machine Learning_.\n",
        "\n",
        "This workbook is for self-assessment; We invite you to solve it \n",
        "\n"
      ]
    },
    {
      "cell_type": "markdown",
      "metadata": {
        "id": "cwo_wTN-b3dI"
      },
      "source": [
        "## setup\n",
        "\n",
        "Two things: Firstly we need to upgrade google colab's elderly version of numerical libraries"
      ]
    },
    {
      "cell_type": "code",
      "source": [
        "!pip install scipy>=1.10 numpy>=1.24"
      ],
      "metadata": {
        "id": "TnC7nSPdoQtf"
      },
      "execution_count": 8,
      "outputs": []
    },
    {
      "cell_type": "markdown",
      "source": [
        "Now we need to import those libraries and use them"
      ],
      "metadata": {
        "id": "8FXiahC_ox6L"
      }
    },
    {
      "cell_type": "code",
      "execution_count": 9,
      "metadata": {
        "id": "CQ3juhclb3dL"
      },
      "outputs": [],
      "source": [
        "from random import seed, shuffle\n",
        "import numpy as np\n",
        "import scipy as sp\n",
        "\n",
        "SEED = 15\n",
        "\n",
        "seed(SEED)\n",
        "rng = np.random.default_rng(SEED)\n"
      ]
    },
    {
      "cell_type": "markdown",
      "metadata": {
        "id": "UZ8QjCNYb3dP"
      },
      "source": [
        "## Some utility functions\n",
        "\n",
        "You might want to use these to solve some of the problems, which is why they are displayed here.\n",
        "\n",
        "OTOH, they are confusing to look at, so you might want to hide them for now and read the rest of the notebook.\n",
        "\n"
      ]
    },
    {
      "cell_type": "code",
      "execution_count": 10,
      "metadata": {
        "id": "0rWofL7fb3dQ"
      },
      "outputs": [],
      "source": [
        "import numpy as np\n",
        "import scipy as sp\n",
        "\n",
        "def get_sp_dist(version='xi'):\n",
        "    \"\"\"\n",
        "    The salmon pox distribution\n",
        "\n",
        "    Coding: \n",
        "    0 well and negative\n",
        "    1 sick and negative\n",
        "    2 well and positive\n",
        "    3 sick and positive\n",
        "\n",
        "    This coding is automated in the next function\n",
        "    \"\"\"\n",
        "    xk = np.arange(4)\n",
        "    if version is None:\n",
        "        pk = (0.82, 0.01, 0.09, 0.09)\n",
        "    elif version == 'xi':\n",
        "        pk = (0.7, 0.02, 0.08, 0.2)  \n",
        "    return sp.stats.rv_discrete(0, 3, name='sp', values=(xk, pk))\n",
        "\n",
        "\n",
        "def sp_coding(c):\n",
        "    \"\"\"\n",
        "    convert a salmon pox integer rv into a tuple of strings.\n",
        "    \"\"\"\n",
        "    if c == 0:\n",
        "        return 'well', 'negative'\n",
        "    elif c == 1:\n",
        "        return 'sick', 'negative'\n",
        "    elif c == 2:\n",
        "        return 'well', 'positive'\n",
        "    elif c == 3:\n",
        "        return 'sick', 'positive'\n",
        "\n",
        "\n",
        "def get_sp_data(n=100, version='xi', seed=15):\n",
        "    \"\"\"\n",
        "    Generate some data from the salmon pox distribution\n",
        "    \"\"\"\n",
        "    rng = np.random.default_rng(seed)\n",
        "    \n",
        "    sp_dist = get_sp_dist(version=version)\n",
        "    data = sp_dist.rvs(size=n, random_state=rng)\n",
        "    return [sp_coding(c) for c in data]\n",
        "\n",
        "\n",
        "def get_wh_dist():\n",
        "    \"\"\"\n",
        "    armspan/height distribution\n",
        "    \"\"\"\n",
        "    mean = np.array([2, 3.5]).reshape(-1,1)\n",
        "    covar = np.array(\n",
        "        [1**2, 1*1.5*0.8, 1*1.5*0.8, 1.5**2]\n",
        "        ).reshape(2,2) * 0.25\n",
        "    return sp.stats.multivariate_normal(mean=mean.ravel(), cov=covar)\n",
        "\n",
        "\n",
        "def get_wh_data(n=200, seed=15):\n",
        "    \"\"\"\n",
        "    Generate some data from the armspan/height distribution.\n",
        "    \"\"\"\n",
        "    rng = np.random.default_rng(seed)\n",
        "    wh_dist = get_wh_dist()\n",
        "    return wh_dist.rvs(size=n, random_state=rng)"
      ]
    },
    {
      "cell_type": "markdown",
      "metadata": {
        "id": "KNqF0D_Sb3dT"
      },
      "source": [
        "## Exercise 01\n",
        "\n",
        "In this exercise we revisit the Salmon Pox problem from the lecture.\n",
        "There is a new variant of the disease, the $\\xi$ variant, so we re-test the village and analyse the results.\n",
        "Our test results are as follows:"
      ]
    },
    {
      "cell_type": "code",
      "execution_count": 11,
      "metadata": {
        "colab": {
          "base_uri": "https://localhost:8080/",
          "height": 323
        },
        "id": "qvYurD1lb3dU",
        "outputId": "e1ea05b3-5c2d-4709-a0f6-e17314656fa8"
      },
      "outputs": [
        {
          "output_type": "error",
          "ename": "AttributeError",
          "evalue": "ignored",
          "traceback": [
            "\u001b[0;31m---------------------------------------------------------------------------\u001b[0m",
            "\u001b[0;31mAttributeError\u001b[0m                            Traceback (most recent call last)",
            "\u001b[0;32m<ipython-input-11-eb68cd8ba4c2>\u001b[0m in \u001b[0;36m<module>\u001b[0;34m\u001b[0m\n\u001b[0;32m----> 1\u001b[0;31m \u001b[0msickness_status\u001b[0m \u001b[0;34m=\u001b[0m \u001b[0mget_sp_data\u001b[0m\u001b[0;34m(\u001b[0m\u001b[0;34m)\u001b[0m\u001b[0;34m\u001b[0m\u001b[0;34m\u001b[0m\u001b[0m\n\u001b[0m",
            "\u001b[0;32m<ipython-input-10-7e39a890b40d>\u001b[0m in \u001b[0;36mget_sp_data\u001b[0;34m(n, version, seed)\u001b[0m\n\u001b[1;32m     42\u001b[0m     \u001b[0mrng\u001b[0m \u001b[0;34m=\u001b[0m \u001b[0mnp\u001b[0m\u001b[0;34m.\u001b[0m\u001b[0mrandom\u001b[0m\u001b[0;34m.\u001b[0m\u001b[0mdefault_rng\u001b[0m\u001b[0;34m(\u001b[0m\u001b[0mseed\u001b[0m\u001b[0;34m)\u001b[0m\u001b[0;34m\u001b[0m\u001b[0;34m\u001b[0m\u001b[0m\n\u001b[1;32m     43\u001b[0m \u001b[0;34m\u001b[0m\u001b[0m\n\u001b[0;32m---> 44\u001b[0;31m     \u001b[0msp_dist\u001b[0m \u001b[0;34m=\u001b[0m \u001b[0mget_sp_dist\u001b[0m\u001b[0;34m(\u001b[0m\u001b[0mversion\u001b[0m\u001b[0;34m=\u001b[0m\u001b[0mversion\u001b[0m\u001b[0;34m)\u001b[0m\u001b[0;34m\u001b[0m\u001b[0;34m\u001b[0m\u001b[0m\n\u001b[0m\u001b[1;32m     45\u001b[0m     \u001b[0mdata\u001b[0m \u001b[0;34m=\u001b[0m \u001b[0msp_dist\u001b[0m\u001b[0;34m.\u001b[0m\u001b[0mrvs\u001b[0m\u001b[0;34m(\u001b[0m\u001b[0msize\u001b[0m\u001b[0;34m=\u001b[0m\u001b[0mn\u001b[0m\u001b[0;34m,\u001b[0m \u001b[0mrandom_state\u001b[0m\u001b[0;34m=\u001b[0m\u001b[0mrng\u001b[0m\u001b[0;34m)\u001b[0m\u001b[0;34m\u001b[0m\u001b[0;34m\u001b[0m\u001b[0m\n\u001b[1;32m     46\u001b[0m     \u001b[0;32mreturn\u001b[0m \u001b[0;34m[\u001b[0m\u001b[0msp_coding\u001b[0m\u001b[0;34m(\u001b[0m\u001b[0mc\u001b[0m\u001b[0;34m)\u001b[0m \u001b[0;32mfor\u001b[0m \u001b[0mc\u001b[0m \u001b[0;32min\u001b[0m \u001b[0mdata\u001b[0m\u001b[0;34m]\u001b[0m\u001b[0;34m\u001b[0m\u001b[0;34m\u001b[0m\u001b[0m\n",
            "\u001b[0;32m<ipython-input-10-7e39a890b40d>\u001b[0m in \u001b[0;36mget_sp_dist\u001b[0;34m(version)\u001b[0m\n\u001b[1;32m     19\u001b[0m     \u001b[0;32melif\u001b[0m \u001b[0mversion\u001b[0m \u001b[0;34m==\u001b[0m \u001b[0;34m'xi'\u001b[0m\u001b[0;34m:\u001b[0m\u001b[0;34m\u001b[0m\u001b[0;34m\u001b[0m\u001b[0m\n\u001b[1;32m     20\u001b[0m         \u001b[0mpk\u001b[0m \u001b[0;34m=\u001b[0m \u001b[0;34m(\u001b[0m\u001b[0;36m0.7\u001b[0m\u001b[0;34m,\u001b[0m \u001b[0;36m0.02\u001b[0m\u001b[0;34m,\u001b[0m \u001b[0;36m0.08\u001b[0m\u001b[0;34m,\u001b[0m \u001b[0;36m0.2\u001b[0m\u001b[0;34m)\u001b[0m\u001b[0;34m\u001b[0m\u001b[0;34m\u001b[0m\u001b[0m\n\u001b[0;32m---> 21\u001b[0;31m     \u001b[0;32mreturn\u001b[0m \u001b[0msp\u001b[0m\u001b[0;34m.\u001b[0m\u001b[0mstats\u001b[0m\u001b[0;34m.\u001b[0m\u001b[0mrv_discrete\u001b[0m\u001b[0;34m(\u001b[0m\u001b[0;36m0\u001b[0m\u001b[0;34m,\u001b[0m \u001b[0;36m3\u001b[0m\u001b[0;34m,\u001b[0m \u001b[0mname\u001b[0m\u001b[0;34m=\u001b[0m\u001b[0;34m'sp'\u001b[0m\u001b[0;34m,\u001b[0m \u001b[0mvalues\u001b[0m\u001b[0;34m=\u001b[0m\u001b[0;34m(\u001b[0m\u001b[0mxk\u001b[0m\u001b[0;34m,\u001b[0m \u001b[0mpk\u001b[0m\u001b[0;34m)\u001b[0m\u001b[0;34m)\u001b[0m\u001b[0;34m\u001b[0m\u001b[0;34m\u001b[0m\u001b[0m\n\u001b[0m\u001b[1;32m     22\u001b[0m \u001b[0;34m\u001b[0m\u001b[0m\n\u001b[1;32m     23\u001b[0m \u001b[0;34m\u001b[0m\u001b[0m\n",
            "\u001b[0;31mAttributeError\u001b[0m: module 'scipy' has no attribute 'stats'"
          ]
        }
      ],
      "source": [
        "sickness_status = get_sp_data()"
      ]
    },
    {
      "cell_type": "markdown",
      "metadata": {
        "id": "64x12pSSb3dV"
      },
      "source": [
        "What is the false negative rate in the village?\n",
        "What does that tell us about the false negative rate in the wider population?"
      ]
    },
    {
      "cell_type": "code",
      "execution_count": null,
      "metadata": {
        "id": "phPvuRMQb3dX"
      },
      "outputs": [],
      "source": []
    },
    {
      "cell_type": "markdown",
      "metadata": {
        "id": "-plYeVZKb3da"
      },
      "source": [
        "Given a positive test result for an individual, what is the probability that the individual is infected?"
      ]
    },
    {
      "cell_type": "code",
      "execution_count": null,
      "metadata": {
        "id": "C46L8PEZb3db"
      },
      "outputs": [],
      "source": []
    },
    {
      "cell_type": "markdown",
      "metadata": {
        "id": "fZhJ_J_gb3dc"
      },
      "source": [
        "Suppose you visit a new town, on a new continent, and you know nothing about the prevalence of $\\xi$-Salmon Pox in the population.\n",
        "You apply the diagnostic test to a new individual, and discover that they test positive.\n",
        "What can you say about the probability that they are infected with $\\xi$-Salmon Pox?"
      ]
    },
    {
      "cell_type": "code",
      "execution_count": null,
      "metadata": {
        "id": "9hS397cMb3dd"
      },
      "outputs": [],
      "source": []
    },
    {
      "cell_type": "markdown",
      "metadata": {
        "id": "fY2jU_WNb3dd"
      },
      "source": [
        "## Exercise 02\n",
        "\n",
        "We move to a new village. The village has 200 people, and they want a commemorative kilt to mark their successful weathering of the Salmon Pox outbreak.\n",
        "The height and arm-span measurements of the people are recorded in the following dataset:"
      ]
    },
    {
      "cell_type": "code",
      "execution_count": null,
      "metadata": {
        "id": "tcRorff_b3df"
      },
      "outputs": [],
      "source": [
        "D = get_wh_data()"
      ]
    },
    {
      "cell_type": "markdown",
      "metadata": {
        "id": "77TmWsXMb3dg"
      },
      "source": [
        "The cost of the kilt is  $w^2\\sqrt{h}$. What is $\\mathbb{E}[\\text{cost}]$?"
      ]
    },
    {
      "cell_type": "code",
      "execution_count": null,
      "metadata": {
        "id": "pUtMYAt8b3dg"
      },
      "outputs": [],
      "source": []
    },
    {
      "cell_type": "markdown",
      "metadata": {
        "id": "Vzo1qP7pb3dh"
      },
      "source": [
        "## Exercise 03\n",
        "\n",
        "We mentioned in the lecture the trade-off between binning data and distributing the whole dataset.\n",
        "How can we quantify this?\n",
        "Write $\\mathcal{D}$ for the original dataset, and $\\mathcal{D}(B)$ for that same dataset binned into a set of $B$ bins.\n",
        "We write $(W,H)\\sim \\operatorname{Law}(\\mathcal{D})$ to mean that $(W,H)$ is simulated by picking random $w$ and $h$ values (with replacement) from the distribution of the data in $\\mathcal{D}$ and $X\\sim \\operatorname{Law}(\\mathcal{D}(B))$ to mean that $X$ to mean a similar thing  simulated by picking random _binned_ values from the distribution of the _binned_ data in $\\mathcal{D}(B)$. When we are dealing with binned data we do it the same way we did in the lecture, i.e. each datapoint is summarised by the centre of the bin it falls into.\n",
        "If we want to write about the expected (i.e. average) value of a function of $W$ and $H$ we write $\\mathbb{E}_{W,H\\sim L}[f(W,H)]$ where $L$ is the law that governs the distribution of $W$ and $H$.\n",
        "\n",
        "Plot the accuracy of the binned approximation to the data for the value $f(W,H)$ where the horizontal axis is the number of bins and the vertical axis is the root-mean-squared error of the approximation, i.e. $\\sqrt{(\\mathbb{E}_{(W,H)\\sim  \\operatorname{Law}(\\mathcal{D}(B)}[f(W,H)]-\\mathbb{E}_{(W,H)\\sim  \\operatorname{Law}(\\mathcal{D}}[f(W,H)])}$.\n",
        "\n",
        "Oh wait! we have not said what $f(W,H)$ is. Start with something simple like $f(W,H)\\mapsto W\\cdot H$.\n",
        "\n",
        "\n",
        "HINT:\n",
        "You can save yourself some labour using [scipy.stats.binned\\_statistic](https://docs.scipy.org/doc/scipy/reference/generated/scipy.stats.binned_statistic.html) and/or the classic combination of [numpy.digitize](https://numpy.org/devdocs/reference/generated/numpy.digitize.html#numpy.digitize) and [numpy.histogram](https://numpy.org/devdocs/reference/generated/numpy.histogram.html#numpy.histogram)."
      ]
    },
    {
      "cell_type": "code",
      "source": [
        "from matplotlib import pyplot as plt\n",
        "D = get_wh_dist()"
      ],
      "metadata": {
        "colab": {
          "base_uri": "https://localhost:8080/",
          "height": 318
        },
        "id": "tTYDIbKcnnAd",
        "outputId": "96cd45a4-f677-42d9-8888-4b85f776dfa6"
      },
      "execution_count": 6,
      "outputs": [
        {
          "output_type": "error",
          "ename": "AttributeError",
          "evalue": "ignored",
          "traceback": [
            "\u001b[0;31m---------------------------------------------------------------------------\u001b[0m",
            "\u001b[0;31mAttributeError\u001b[0m                            Traceback (most recent call last)",
            "\u001b[0;32m<ipython-input-6-9f86d2b4fcc8>\u001b[0m in \u001b[0;36m<module>\u001b[0;34m\u001b[0m\n\u001b[1;32m      1\u001b[0m \u001b[0;32mfrom\u001b[0m \u001b[0mmatplotlib\u001b[0m \u001b[0;32mimport\u001b[0m \u001b[0mpyplot\u001b[0m \u001b[0;32mas\u001b[0m \u001b[0mplt\u001b[0m\u001b[0;34m\u001b[0m\u001b[0;34m\u001b[0m\u001b[0m\n\u001b[0;32m----> 2\u001b[0;31m \u001b[0mD\u001b[0m \u001b[0;34m=\u001b[0m \u001b[0mget_wh_dist\u001b[0m\u001b[0;34m(\u001b[0m\u001b[0;34m)\u001b[0m\u001b[0;34m\u001b[0m\u001b[0;34m\u001b[0m\u001b[0m\n\u001b[0m",
            "\u001b[0;32m<ipython-input-5-7e39a890b40d>\u001b[0m in \u001b[0;36mget_wh_dist\u001b[0;34m()\u001b[0m\n\u001b[1;32m     55\u001b[0m         \u001b[0;34m[\u001b[0m\u001b[0;36m1\u001b[0m\u001b[0;34m**\u001b[0m\u001b[0;36m2\u001b[0m\u001b[0;34m,\u001b[0m \u001b[0;36m1\u001b[0m\u001b[0;34m*\u001b[0m\u001b[0;36m1.5\u001b[0m\u001b[0;34m*\u001b[0m\u001b[0;36m0.8\u001b[0m\u001b[0;34m,\u001b[0m \u001b[0;36m1\u001b[0m\u001b[0;34m*\u001b[0m\u001b[0;36m1.5\u001b[0m\u001b[0;34m*\u001b[0m\u001b[0;36m0.8\u001b[0m\u001b[0;34m,\u001b[0m \u001b[0;36m1.5\u001b[0m\u001b[0;34m**\u001b[0m\u001b[0;36m2\u001b[0m\u001b[0;34m]\u001b[0m\u001b[0;34m\u001b[0m\u001b[0;34m\u001b[0m\u001b[0m\n\u001b[1;32m     56\u001b[0m         ).reshape(2,2) * 0.25\n\u001b[0;32m---> 57\u001b[0;31m     \u001b[0;32mreturn\u001b[0m \u001b[0msp\u001b[0m\u001b[0;34m.\u001b[0m\u001b[0mstats\u001b[0m\u001b[0;34m.\u001b[0m\u001b[0mmultivariate_normal\u001b[0m\u001b[0;34m(\u001b[0m\u001b[0mmean\u001b[0m\u001b[0;34m=\u001b[0m\u001b[0mmean\u001b[0m\u001b[0;34m.\u001b[0m\u001b[0mravel\u001b[0m\u001b[0;34m(\u001b[0m\u001b[0;34m)\u001b[0m\u001b[0;34m,\u001b[0m \u001b[0mcov\u001b[0m\u001b[0;34m=\u001b[0m\u001b[0mcovar\u001b[0m\u001b[0;34m)\u001b[0m\u001b[0;34m\u001b[0m\u001b[0;34m\u001b[0m\u001b[0m\n\u001b[0m\u001b[1;32m     58\u001b[0m \u001b[0;34m\u001b[0m\u001b[0m\n\u001b[1;32m     59\u001b[0m \u001b[0;34m\u001b[0m\u001b[0m\n",
            "\u001b[0;31mAttributeError\u001b[0m: module 'scipy' has no attribute 'stats'"
          ]
        }
      ]
    },
    {
      "cell_type": "markdown",
      "source": [
        "OK, now try that exercise again, but this time set $f(W,H)\\mapsto 10^W \\cos( 15H)$.\n",
        "How does that plotted curve differ?"
      ],
      "metadata": {
        "id": "al3G6ytQn_MI"
      }
    },
    {
      "cell_type": "code",
      "source": [],
      "metadata": {
        "id": "2-75ZOeVn5Tf"
      },
      "execution_count": null,
      "outputs": []
    },
    {
      "cell_type": "markdown",
      "source": [
        "Can you find a better way of measuring the “distance” between these approximated expectations to the true data than the Root-Mean-Square error?"
      ],
      "metadata": {
        "id": "KwpeFjQUoD7g"
      }
    },
    {
      "cell_type": "code",
      "source": [],
      "metadata": {
        "id": "HilywSHroEV7"
      },
      "execution_count": null,
      "outputs": []
    }
  ],
  "metadata": {
    "kernelspec": {
      "display_name": "venv",
      "language": "python",
      "name": "python3"
    },
    "language_info": {
      "codemirror_mode": {
        "name": "ipython",
        "version": 3
      },
      "file_extension": ".py",
      "mimetype": "text/x-python",
      "name": "python",
      "nbconvert_exporter": "python",
      "pygments_lexer": "ipython3",
      "version": "3.9.6"
    },
    "vscode": {
      "interpreter": {
        "hash": "f51b85179b932ac0f9a9c96de03a07d73ed4c17802a9dc16695724f71410bcef"
      }
    },
    "colab": {
      "provenance": [],
      "include_colab_link": true
    }
  },
  "nbformat": 4,
  "nbformat_minor": 0
}