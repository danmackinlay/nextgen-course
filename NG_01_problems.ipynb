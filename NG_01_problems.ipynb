{
  "cells": [
    {
      "cell_type": "markdown",
      "metadata": {
        "id": "view-in-github",
        "colab_type": "text"
      },
      "source": [
        "<a href=\"https://colab.research.google.com/github/danmackinlay/nextgen-course/blob/main/NG_01_problems.ipynb\" target=\"_parent\"><img src=\"https://colab.research.google.com/assets/colab-badge.svg\" alt=\"Open In Colab\"/></a>"
      ]
    },
    {
      "cell_type": "markdown",
      "metadata": {
        "id": "AK5-gkqGb3dE"
      },
      "source": [
        "# Exercises in probability\n",
        "\n",
        "![](CSIRO-Data61-logo.svg)\n",
        "\n",
        "In this notebook we use some of the tools introduced in the lecture to solve problems in probability.\n",
        "There are more, and more advanced, problems at the end of  chapter 2 of Chris Bishop’s _Pattern Recognition and Machine Learning_.\n",
        "\n",
        "This workbook is for self-assessment; We invite you to solve it \n",
        "\n"
      ]
    },
    {
      "cell_type": "markdown",
      "metadata": {
        "id": "cwo_wTN-b3dI"
      },
      "source": [
        "## setup\n",
        "\n",
        "Firstly we need to upgrade google colab's elderly version of numerical libraries"
      ]
    },
    {
      "cell_type": "code",
      "source": [
        "!pip install scipy>=1.10 numpy>=1.24"
      ],
      "metadata": {
        "id": "TnC7nSPdoQtf"
      },
      "execution_count": 13,
      "outputs": []
    },
    {
      "cell_type": "markdown",
      "source": [
        "Did that work? Let's check!"
      ],
      "metadata": {
        "id": "-x7_jTiErx63"
      }
    },
    {
      "cell_type": "code",
      "source": [
        "import scipy as sp\n",
        "import numpy as np\n",
        "\n",
        "print(f\"\"\"\n",
        "scipy version {sp.version.full_version}\n",
        "numpy version {np.version.full_version}\"\"\")"
      ],
      "metadata": {
        "colab": {
          "base_uri": "https://localhost:8080/"
        },
        "id": "b8LCreZ1rn-5",
        "outputId": "5797b33f-1305-4a9b-c2a0-0c625adedebb"
      },
      "execution_count": 37,
      "outputs": [
        {
          "output_type": "stream",
          "name": "stdout",
          "text": [
            "\n",
            "scipy version 1.7.3\n",
            "numpy version 1.21.6\n"
          ]
        }
      ]
    },
    {
      "cell_type": "markdown",
      "source": [
        "Nope, that does _not_ work for me in Google Colab, and probably not for you either! 🤪 Now you have developed two useful skills before even starting!\n",
        "\n",
        "1. Shouting at Google product for behaving an unexpected way\n",
        "2. Shouting at python because the wrong version of something is installed and it is not clear how to update it.\n",
        "\n",
        "Nothing to do for now; but be aware that some of these exercises might be easier if you learn to install python on your own machine rather than relying on Google Colab.\n",
        "\n",
        "Let us continue despondently and set up the notebook.\n",
        "First we will configure the random number generators so that the data is consistent.\n",
        "\n"
      ],
      "metadata": {
        "id": "8FXiahC_ox6L"
      }
    },
    {
      "cell_type": "code",
      "execution_count": 22,
      "metadata": {
        "id": "CQ3juhclb3dL"
      },
      "outputs": [],
      "source": [
        "from random import seed, shuffle\n",
        "\n",
        "SEED = 15\n",
        "\n",
        "seed(SEED)\n",
        "rng = np.random.default_rng(SEED)\n"
      ]
    },
    {
      "cell_type": "markdown",
      "metadata": {
        "id": "UZ8QjCNYb3dP"
      },
      "source": [
        "## Some utility functions\n",
        "\n",
        "You might want to use these to solve some of the problems, which is why they are displayed here.\n",
        "\n",
        "OTOH, they are confusing to look at, so you might want to hide them for now and read the rest of the notebook.\n",
        "\n"
      ]
    },
    {
      "cell_type": "code",
      "execution_count": 38,
      "metadata": {
        "id": "0rWofL7fb3dQ"
      },
      "outputs": [],
      "source": [
        "import scipy.stats\n",
        "\n",
        "def get_sp_dist(version='xi'):\n",
        "    \"\"\"\n",
        "    The salmon pox distribution\n",
        "\n",
        "    Coding: \n",
        "    0 well and negative\n",
        "    1 sick and negative\n",
        "    2 well and positive\n",
        "    3 sick and positive\n",
        "\n",
        "    This coding is automated in the next function\n",
        "    \"\"\"\n",
        "    xk = np.arange(4)\n",
        "    if version is None:\n",
        "        pk = (0.82, 0.01, 0.09, 0.09)\n",
        "    elif version == 'xi':\n",
        "        pk = (0.7, 0.02, 0.08, 0.2)  \n",
        "    return sp.stats.rv_discrete(0, 3, name='sp', values=(xk, pk))\n",
        "\n",
        "\n",
        "def sp_coding(c):\n",
        "    \"\"\"\n",
        "    convert a salmon pox integer rv into a tuple of strings.\n",
        "    \"\"\"\n",
        "    if c == 0:\n",
        "        return 'well', 'negative'\n",
        "    elif c == 1:\n",
        "        return 'sick', 'negative'\n",
        "    elif c == 2:\n",
        "        return 'well', 'positive'\n",
        "    elif c == 3:\n",
        "        return 'sick', 'positive'\n",
        "\n",
        "\n",
        "def get_sp_data(n=100, version='xi', seed=15):\n",
        "    \"\"\"\n",
        "    Generate some data from the salmon pox distribution\n",
        "    \"\"\"\n",
        "    rng = np.random.default_rng(seed)\n",
        "    \n",
        "    sp_dist = get_sp_dist(version=version)\n",
        "    data = sp_dist.rvs(size=n, random_state=rng)\n",
        "    return [sp_coding(c) for c in data]\n",
        "\n",
        "\n",
        "def get_wh_dist():\n",
        "    \"\"\"\n",
        "    armspan/height distribution\n",
        "    \"\"\"\n",
        "    mean = np.array([2, 3.5]).reshape(-1,1)\n",
        "    covar = np.array(\n",
        "        [1**2, 1*1.5*0.8, 1*1.5*0.8, 1.5**2]\n",
        "        ).reshape(2,2) * 0.25\n",
        "    return sp.stats.multivariate_normal(mean=mean.ravel(), cov=covar)\n",
        "\n",
        "\n",
        "def get_wh_data(n=200, seed=15):\n",
        "    \"\"\"\n",
        "    Generate some data from the armspan/height distribution.\n",
        "    \"\"\"\n",
        "    rng = np.random.default_rng(seed)\n",
        "    wh_dist = get_wh_dist()\n",
        "    return wh_dist.rvs(size=n, random_state=rng)"
      ]
    },
    {
      "cell_type": "markdown",
      "metadata": {
        "id": "KNqF0D_Sb3dT"
      },
      "source": [
        "## Exercise 01\n",
        "\n",
        "In this exercise we revisit the Salmon Pox problem from the lecture.\n",
        "There is a new variant of the disease, the $\\xi$ variant, so we re-test the village and analyse the results.\n",
        "Our test results are as follows:"
      ]
    },
    {
      "cell_type": "code",
      "execution_count": 39,
      "metadata": {
        "id": "qvYurD1lb3dU"
      },
      "outputs": [],
      "source": [
        "sickness_status = get_sp_data()"
      ]
    },
    {
      "cell_type": "markdown",
      "metadata": {
        "id": "64x12pSSb3dV"
      },
      "source": [
        "What is the false negative rate in the village?\n",
        "What does that tell us about the false negative rate in the wider population?"
      ]
    },
    {
      "cell_type": "code",
      "execution_count": null,
      "metadata": {
        "id": "phPvuRMQb3dX"
      },
      "outputs": [],
      "source": []
    },
    {
      "cell_type": "markdown",
      "metadata": {
        "id": "-plYeVZKb3da"
      },
      "source": [
        "Given a positive test result for an individual, what is the probability that the individual is infected?"
      ]
    },
    {
      "cell_type": "code",
      "execution_count": null,
      "metadata": {
        "id": "C46L8PEZb3db"
      },
      "outputs": [],
      "source": []
    },
    {
      "cell_type": "markdown",
      "metadata": {
        "id": "fZhJ_J_gb3dc"
      },
      "source": [
        "Suppose you visit a new town, on a new continent, and you know nothing about the prevalence of $\\xi$-Salmon Pox in the population.\n",
        "You apply the diagnostic test to a new individual, and discover that they test positive.\n",
        "What can you say about the probability that they are infected with $\\xi$-Salmon Pox?"
      ]
    },
    {
      "cell_type": "code",
      "execution_count": null,
      "metadata": {
        "id": "9hS397cMb3dd"
      },
      "outputs": [],
      "source": []
    },
    {
      "cell_type": "markdown",
      "metadata": {
        "id": "fY2jU_WNb3dd"
      },
      "source": [
        "## Exercise 02\n",
        "\n",
        "We move to a new village. The village has 200 people, and they want a commemorative kilt to mark their successful weathering of the Salmon Pox outbreak.\n",
        "The height and arm-span measurements of the people are recorded in the following dataset:"
      ]
    },
    {
      "cell_type": "code",
      "execution_count": 40,
      "metadata": {
        "id": "tcRorff_b3df"
      },
      "outputs": [],
      "source": [
        "D = get_wh_data()"
      ]
    },
    {
      "cell_type": "markdown",
      "metadata": {
        "id": "77TmWsXMb3dg"
      },
      "source": [
        "The cost of the kilt is  $w^2\\sqrt{h}$. What is $\\mathbb{E}[\\text{cost}]$?"
      ]
    },
    {
      "cell_type": "code",
      "execution_count": null,
      "metadata": {
        "id": "pUtMYAt8b3dg"
      },
      "outputs": [],
      "source": []
    },
    {
      "cell_type": "markdown",
      "metadata": {
        "id": "Vzo1qP7pb3dh"
      },
      "source": [
        "## Exercise 03\n",
        "\n",
        "We mentioned in the lecture the trade-off between binning data and distributing the whole dataset.\n",
        "How can we quantify this?\n",
        "Write $\\mathcal{D}$ for the original dataset, and $\\mathcal{D}(B)$ for that same dataset binned into a set of $B$ bins.\n",
        "We write $(W,H)\\sim \\operatorname{Law}(\\mathcal{D})$ to mean that $(W,H)$ is simulated by picking random $w$ and $h$ values (with replacement) from the distribution of the data in $\\mathcal{D}$ and $X\\sim \\operatorname{Law}(\\mathcal{D}(B))$ to mean that $X$ to mean a similar thing  simulated by picking random _binned_ values from the distribution of the _binned_ data in $\\mathcal{D}(B)$. When we are dealing with binned data we do it the same way we did in the lecture, i.e. each datapoint is summarised by the centre of the bin it falls into.\n",
        "If we want to write about the expected (i.e. average) value of a function of $W$ and $H$ we write $\\mathbb{E}_{W,H\\sim L}[f(W,H)]$ where $L$ is the law that governs the distribution of $W$ and $H$.\n",
        "\n",
        "Plot the accuracy of the binned approximation to the data for the value $f(W,H)$ where the horizontal axis is the number of bins and the vertical axis is the root-mean-squared error of the approximation, i.e. $\\sqrt{(\\mathbb{E}_{(W,H)\\sim  \\operatorname{Law}(\\mathcal{D}(B)}[f(W,H)]-\\mathbb{E}_{(W,H)\\sim  \\operatorname{Law}(\\mathcal{D}}[f(W,H)])}$.\n",
        "\n",
        "Oh wait! we have not said what $f(W,H)$ is. Start with something simple like $f(W,H)\\mapsto W\\cdot H$.\n",
        "\n",
        "\n",
        "HINT:\n",
        "You can save yourself some labour using [scipy.stats.binned\\_statistic](https://docs.scipy.org/doc/scipy/reference/generated/scipy.stats.binned_statistic.html) and/or the classic combination of [numpy.digitize](https://numpy.org/devdocs/reference/generated/numpy.digitize.html#numpy.digitize) and [numpy.histogram](https://numpy.org/devdocs/reference/generated/numpy.histogram.html#numpy.histogram)."
      ]
    },
    {
      "cell_type": "code",
      "source": [
        "from matplotlib import pyplot as plt\n",
        "D = get_wh_dist()"
      ],
      "metadata": {
        "id": "tTYDIbKcnnAd"
      },
      "execution_count": 41,
      "outputs": []
    },
    {
      "cell_type": "markdown",
      "source": [
        "OK, now try that exercise again, but this time set $f(W,H)\\mapsto 10^W \\cos( 15H)$.\n",
        "How does that plotted curve differ?"
      ],
      "metadata": {
        "id": "al3G6ytQn_MI"
      }
    },
    {
      "cell_type": "code",
      "source": [],
      "metadata": {
        "id": "2-75ZOeVn5Tf"
      },
      "execution_count": null,
      "outputs": []
    },
    {
      "cell_type": "markdown",
      "source": [
        "Can you find a better way of measuring the “distance” between these approximated expectations to the true data than the Root-Mean-Square error?"
      ],
      "metadata": {
        "id": "KwpeFjQUoD7g"
      }
    },
    {
      "cell_type": "code",
      "source": [],
      "metadata": {
        "id": "HilywSHroEV7"
      },
      "execution_count": null,
      "outputs": []
    }
  ],
  "metadata": {
    "kernelspec": {
      "display_name": "venv",
      "language": "python",
      "name": "python3"
    },
    "language_info": {
      "codemirror_mode": {
        "name": "ipython",
        "version": 3
      },
      "file_extension": ".py",
      "mimetype": "text/x-python",
      "name": "python",
      "nbconvert_exporter": "python",
      "pygments_lexer": "ipython3",
      "version": "3.9.6"
    },
    "vscode": {
      "interpreter": {
        "hash": "f51b85179b932ac0f9a9c96de03a07d73ed4c17802a9dc16695724f71410bcef"
      }
    },
    "colab": {
      "provenance": [],
      "include_colab_link": true
    }
  },
  "nbformat": 4,
  "nbformat_minor": 0
}