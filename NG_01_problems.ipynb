{
 "cells": [
  {
   "attachments": {},
   "cell_type": "markdown",
   "metadata": {},
   "source": [
    "# Exercises in probability\n",
    "\n",
    "In this notebook we use some of the tools introduced in the lecture to solve problems in probability.\n",
    "There are more, and more advanced, problems at the end of  chapter 2 of Chris Bishop’s _Pattern Recognition and Machine Learning_.\n",
    "\n",
    "![](CSIRO-Data61-logo.svg)\n"
   ]
  },
  {
   "cell_type": "markdown",
   "metadata": {},
   "source": [
    "## setup"
   ]
  },
  {
   "cell_type": "code",
   "execution_count": 14,
   "metadata": {},
   "outputs": [
    {
     "name": "stdout",
     "output_type": "stream",
     "text": [
      "The autoreload extension is already loaded. To reload it, use:\n",
      "  %reload_ext autoreload\n"
     ]
    }
   ],
   "source": [
    "from random import seed, shuffle\n",
    "import numpy as np\n",
    "import scipy as sp\n",
    "\n",
    "%load_ext autoreload\n",
    "%autoreload 2\n",
    "\n",
    "from nextgen_01_lib import *\n",
    "\n",
    "SEED = 15\n",
    "\n",
    "seed(SEED)\n",
    "rng = np.random.default_rng(SEED)\n"
   ]
  },
  {
   "attachments": {},
   "cell_type": "markdown",
   "metadata": {},
   "source": [
    "## Exercise 01\n",
    "\n",
    "In this exercise we revisit the Salmon Pox problem from the lecture.\n",
    "There is a new variant of the disease, the $\\xi$ variant, so we re-test the village and analyse the results.\n",
    "Our test results are as follows:"
   ]
  },
  {
   "cell_type": "code",
   "execution_count": 20,
   "metadata": {},
   "outputs": [],
   "source": [
    "sickness_status = get_sp_data()"
   ]
  },
  {
   "attachments": {},
   "cell_type": "markdown",
   "metadata": {},
   "source": [
    "What is the false negative rate in the village?\n",
    "What does that tell us about the false negative rate in the wider population?"
   ]
  },
  {
   "cell_type": "code",
   "execution_count": null,
   "metadata": {},
   "outputs": [],
   "source": []
  },
  {
   "attachments": {},
   "cell_type": "markdown",
   "metadata": {},
   "source": [
    "Given a positive test result for an individual, what is the probability that the individual is infected?"
   ]
  },
  {
   "cell_type": "code",
   "execution_count": null,
   "metadata": {},
   "outputs": [],
   "source": []
  },
  {
   "attachments": {},
   "cell_type": "markdown",
   "metadata": {},
   "source": [
    "## Exercise 02\n",
    "\n",
    "We move to a new village. The village has 200 people, and they want a commemorative kilt to mark their successful weathering of the Salmon Pox outbreak.\n",
    "The height and arm-span measurements of the people are recorded in the following dataset:"
   ]
  },
  {
   "cell_type": "code",
   "execution_count": 23,
   "metadata": {},
   "outputs": [],
   "source": [
    "d = get_wh_data()"
   ]
  },
  {
   "attachments": {},
   "cell_type": "markdown",
   "metadata": {},
   "source": [
    "The cost of the kilt is  $w^2\\sqrt{h}$. What is $\\mathbb{E}[\\text{cost}]$?"
   ]
  },
  {
   "cell_type": "code",
   "execution_count": null,
   "metadata": {},
   "outputs": [],
   "source": []
  },
  {
   "attachments": {},
   "cell_type": "markdown",
   "metadata": {},
   "source": [
    "## Exercise 03\n",
    "\n"
   ]
  }
 ],
 "metadata": {
  "kernelspec": {
   "display_name": "venv",
   "language": "python",
   "name": "python3"
  },
  "language_info": {
   "codemirror_mode": {
    "name": "ipython",
    "version": 3
   },
   "file_extension": ".py",
   "mimetype": "text/x-python",
   "name": "python",
   "nbconvert_exporter": "python",
   "pygments_lexer": "ipython3",
   "version": "3.9.6"
  },
  "vscode": {
   "interpreter": {
    "hash": "f51b85179b932ac0f9a9c96de03a07d73ed4c17802a9dc16695724f71410bcef"
   }
  }
 },
 "nbformat": 4,
 "nbformat_minor": 4
}
