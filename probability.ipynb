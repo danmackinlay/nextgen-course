{
 "cells": [
  {
   "cell_type": "code",
   "execution_count": 5,
   "metadata": {},
   "outputs": [],
   "source": [
    "from manim import *\n",
    "from random import seed, shuffle"
   ]
  },
  {
   "cell_type": "code",
   "execution_count": 62,
   "metadata": {},
   "outputs": [
    {
     "data": {
      "text/html": [
       "<video src=\"media/jupyter/Welcome@2022-08-07@17-35-49.mp4\" controls autoplay loop style=\"max-width: 60%;\"  >\n",
       "      Your browser does not support the <code>video</code> element.\n",
       "    </video>"
      ],
      "text/plain": [
       "<IPython.core.display.Video object>"
      ]
     },
     "metadata": {},
     "output_type": "display_data"
    }
   ],
   "source": [
    "%%manim -v WARNING --progress_bar None Welcome\n",
    "\n",
    "seed(14)\n",
    "\n",
    "class Welcome(Scene):\n",
    "    def construct(self):\n",
    "        logo = SVGMobject('./CSIRO-Data61-logo.svg').scale(3)\n",
    "        # logo = SVGMobject('./Data61-logo.svg')\n",
    "        # logo = SVGMobject('./CSIRO-logo.svg')\n",
    "        self.play(Write(logo))\n",
    "        self.wait()\n",
    "        logo.generate_target()\n",
    "        logo.target.scale(0.15).to_edge(DR)\n",
    "        self.play(MoveToTarget(\n",
    "            logo))\n",
    "        self.wait()\n",
    "        lesson_text = Text('NextGen Lectures 01')\n",
    "        self.play(Write(lesson_text))\n",
    "        self.wait()\n",
    "        lesson_text2 = Text('Beginning probability')\n",
    "        self.play(Transform(lesson_text, lesson_text2))\n",
    "        self.wait()\n",
    "        self.play(FadeOut(lesson_text2))\n",
    "        dan = ImageMobject('dan_head.webp')\n",
    "        lesson_text3 = Text('with Dan MacKinlay').align_to(dan, DOWN)\n",
    "        self.play(FadeIn(dan))\n",
    "        self.play(Write(lesson_text3))\n",
    "        self.wait()\n",
    "\n",
    "\n"
   ]
  },
  {
   "cell_type": "code",
   "execution_count": null,
   "metadata": {},
   "outputs": [],
   "source": []
  }
 ],
 "metadata": {
  "kernelspec": {
   "display_name": "Python 3 (ipykernel)",
   "language": "python",
   "name": "python3"
  },
  "language_info": {
   "codemirror_mode": {
    "name": "ipython",
    "version": 3
   },
   "file_extension": ".py",
   "mimetype": "text/x-python",
   "name": "python",
   "nbconvert_exporter": "python",
   "pygments_lexer": "ipython3",
   "version": "3.9.13"
  },
  "vscode": {
   "interpreter": {
    "hash": "46c07f8aca75ef74b3ff71828bfe734891426e0a5929f58948cfd5377753f528"
   }
  }
 },
 "nbformat": 4,
 "nbformat_minor": 4
}
