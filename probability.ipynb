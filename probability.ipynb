{
 "cells": [
  {
   "cell_type": "code",
   "execution_count": 5,
   "metadata": {},
   "outputs": [],
   "source": [
    "from manim import *\n",
    "from random import seed, shuffle"
   ]
  },
  {
   "cell_type": "code",
   "execution_count": 55,
   "metadata": {},
   "outputs": [
    {
     "data": {
      "text/html": [
       "<video src=\"media/jupyter/Welcome@2022-08-07@16-32-00.mp4\" controls autoplay loop style=\"max-width: 60%;\"  >\n",
       "      Your browser does not support the <code>video</code> element.\n",
       "    </video>"
      ],
      "text/plain": [
       "<IPython.core.display.Video object>"
      ]
     },
     "metadata": {},
     "output_type": "display_data"
    }
   ],
   "source": [
    "%%manim -v WARNING --progress_bar None Welcome\n",
    "\n",
    "seed(14)\n",
    "\n",
    "class Welcome(Scene):\n",
    "    def construct(self):\n",
    "        logo = SVGMobject('./CSIRO-Data61-logo.svg')\n",
    "        # logo = SVGMobject('./Data61-logo.svg')\n",
    "        # logo = SVGMobject('./CSIRO-logo.svg')\n",
    "        self.play(Write(logo))\n",
    "        self.wait()\n"
   ]
  },
  {
   "cell_type": "code",
   "execution_count": 3,
   "metadata": {},
   "outputs": [
    {
     "data": {
      "text/html": [
       "<video src=\"media/jupyter/SalmonPox@2022-08-07@14-41-09.mp4\" controls autoplay loop style=\"max-width: 60%;\"  >\n",
       "      Your browser does not support the <code>video</code> element.\n",
       "    </video>"
      ],
      "text/plain": [
       "<IPython.core.display.Video object>"
      ]
     },
     "metadata": {},
     "output_type": "display_data"
    }
   ],
   "source": [
    "%%manim -v WARNING --progress_bar None SalmonPox\n",
    "\n",
    "seed(15)\n",
    "\n",
    "class SalmonPox(Scene):\n",
    "    def construct(self):\n",
    "        scale = 0.2\n",
    "        wait_scale = 1.0\n",
    "        n_well_pos = 9\n",
    "        n_well_neg = 81\n",
    "        n_sick_pos = 9\n",
    "        n_sick_neg = 1\n",
    "        sick_icon = Text(\"☹︎\").scale(5) # or ♓︎\n",
    "        # sick_icon = Triangle()\n",
    "        well_icon = Text(\"☺︎\").scale(5)\n",
    "        # well_icon = Circle()\n",
    "        POS_COLOR = BLUE\n",
    "        NEG_COLOR = RED\n",
    "        well_pos = [well_icon.copy().scale(scale).set_color(NEG_COLOR) for i in range(n_well_pos)]\n",
    "        well_neg = [well_icon.copy().scale(scale).set_color(NEG_COLOR) for i in range(n_well_neg)]\n",
    "        sick_pos = [sick_icon.copy().scale(scale).set_color(NEG_COLOR) for i in range(n_sick_pos)]\n",
    "        sick_neg = [sick_icon.copy().scale(scale).set_color(NEG_COLOR) for i in range(n_sick_neg)]\n",
    "        pop = well_pos + well_neg + sick_pos + sick_neg\n",
    "        ordered_pop = list(pop)\n",
    "        shuffle(pop)\n",
    "        pop_group = Group(*pop)\n",
    "        pop_group.arrange_in_grid(n_cols=20)\n",
    "        pop_group.shift(LEFT*3.25)\n",
    "        census_text = MathTex(\n",
    "            r\"\"\"\\text{\\# pop.}&=100\\\\\"\"\",\n",
    "            r\"\"\"\\text{\\# sick}&=10\\\\\"\"\",\n",
    "            r\"\"\"\\text{\\# well}&=90\\\\\"\"\",\n",
    "            r\"\"\"\\text{\\# well \\& +ve}&=9\\\\\"\"\",\n",
    "            r\"\"\"\\text{\\# sick \\& +ve}&=9\\\\\"\"\",\n",
    "            r\"\"\"\\frac{\\text{sick \\& +ve}}{\\text{\\# +ve}}&= {{ \\,?\\, }}\"\"\",\n",
    "            font_size=55)\n",
    "        (\n",
    "            pop_text, sick_text, well_text, wel_pos_text,\n",
    "            sick_pos_text, true_sick_text,\n",
    "            true_sick_ans_text \n",
    "        ) = census_text\n",
    "        census_text.shift(RIGHT*3.25)\n",
    "\n",
    "        # self.add(pop_group)\n",
    "        # pop_group.remove(*pop_group)\n",
    "        well_group = VGroup(*well_pos, *well_neg)\n",
    "        sick_group = VGroup(*sick_pos, *sick_neg)\n",
    "        well_pos_group = VGroup(*well_pos)\n",
    "        well_neg_group = VGroup(*well_neg)\n",
    "        sick_pos_group = VGroup(*sick_pos)\n",
    "        sick_neg_group = VGroup(*sick_neg)\n",
    "        pos_group = VGroup(*well_pos, *sick_pos)\n",
    "        neg_group = VGroup(*sick_neg, *well_neg)\n",
    "\n",
    "        self.play(FadeIn(pop_group))\n",
    "        self.wait(1.0*wait_scale)\n",
    "        self.play(Write(pop_text))\n",
    "        self.play(Indicate(pop_group))\n",
    "        self.play(Write(sick_text))\n",
    "        self.play(Indicate(sick_group))\n",
    "        self.wait(1.0*wait_scale)\n",
    "        self.play(Write(well_text))\n",
    "        self.play(Indicate(well_group))\n",
    "        self.wait(1.0*wait_scale)\n",
    "        self.play(FadeToColor(pos_group, color=POS_COLOR))\n",
    "        self.play(Indicate(pos_group, color=POS_COLOR))\n",
    "        self.wait(1.0*wait_scale)\n",
    "        self.play(Write(wel_pos_text))\n",
    "        self.play(Indicate(well_pos_group, color=POS_COLOR))\n",
    "        self.wait(1.0*wait_scale)\n",
    "        self.play(Write(sick_pos_text))\n",
    "        self.play(Indicate(sick_pos_group, color=POS_COLOR))\n",
    "        self.wait(1.0*wait_scale)\n",
    "        self.play(Write(VGroup(true_sick_text, true_sick_ans_text)))\n",
    "        # self.add(index_labels(true_sick_text))\n",
    "        self.wait(1.0*wait_scale)\n",
    "        self.play(Unwrite(neg_group))\n",
    "        self.wait(1.0*wait_scale)\n",
    "\n",
    "        pos_group.generate_target()\n",
    "        pos_group.target.arrange(LEFT).shift(LEFT*3).scale(0.5)\n",
    "        self.play(MoveToTarget(\n",
    "            pos_group))\n",
    "        self.wait(1.0*wait_scale)\n",
    "        pos_brace = Brace(pos_group)\n",
    "        pos_brace_text = MathTex(\n",
    "            r\"\"\"\\text{\\# +ve}&=18\"\"\").next_to(pos_brace, DOWN)\n",
    "        self.play(Write(\n",
    "            VGroup(pos_brace, pos_brace_text)\n",
    "        ))\n",
    "        self.wait(1.0*wait_scale)\n",
    "        sick_pos_brace = Brace(sick_pos_group, UP)\n",
    "        sick_pos_brace_text = MathTex(\n",
    "            r\"\"\"\\text{\\# sick \\& +ve}&=9\"\"\").next_to(sick_pos_brace, UP)\n",
    "        self.play(Write(\n",
    "            VGroup(sick_pos_brace, sick_pos_brace_text)\n",
    "        ))\n",
    "        answer_text = MathTex(\n",
    "            r\"\"\"\\frac{9}{18}\"\"\",\n",
    "            font_size=55\n",
    "        ).move_to(true_sick_ans_text.get_left(), LEFT )\n",
    "        self.play(Transform(\n",
    "            true_sick_ans_text,\n",
    "            answer_text\n",
    "        ))\n",
    "        self.wait(1.0*wait_scale)\n",
    "        better_answer_text = MathTex(\n",
    "            r\"\"\"\\frac{1}{2}\"\"\",\n",
    "            font_size=55\n",
    "        ).move_to(true_sick_ans_text.get_left(), LEFT)\n",
    "        self.wait(1.0*wait_scale)\n",
    "        self.play(Transform(\n",
    "            true_sick_ans_text,\n",
    "            better_answer_text\n",
    "        ))\n",
    "        self.wait(5.0*wait_scale)"
   ]
  },
  {
   "cell_type": "code",
   "execution_count": null,
   "metadata": {},
   "outputs": [],
   "source": []
  }
 ],
 "metadata": {
  "kernelspec": {
   "display_name": "Python 3 (ipykernel)",
   "language": "python",
   "name": "python3"
  },
  "language_info": {
   "codemirror_mode": {
    "name": "ipython",
    "version": 3
   },
   "file_extension": ".py",
   "mimetype": "text/x-python",
   "name": "python",
   "nbconvert_exporter": "python",
   "pygments_lexer": "ipython3",
   "version": "3.9.13"
  },
  "vscode": {
   "interpreter": {
    "hash": "46c07f8aca75ef74b3ff71828bfe734891426e0a5929f58948cfd5377753f528"
   }
  }
 },
 "nbformat": 4,
 "nbformat_minor": 4
}
